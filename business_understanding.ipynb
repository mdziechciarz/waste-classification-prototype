{
 "cells": [
  {
   "attachments": {},
   "cell_type": "markdown",
   "metadata": {},
   "source": [
    "# Market research\n",
    "\n",
    "\n",
    "### What classifier product/product feature could make customers' lives easier?​\n",
    "\n",
    "An application that, based on image input, sorts garbage into appropriate classes.​\n",
    "\n",
    "### How can I improve my customers' experience?​\n",
    "\n",
    "By accurately classifying their trash into the appropriate categories, customers can reduce their influence on the environment. This can reduce the amount of waste that is dumped in landfills and lessen environmental damage. Customers will also contribute to lowering the expense of landfills by avoiding paying to dispose of materials that may have been recycled.​\n",
    "\n",
    "### What problem can I alleviate for my customers?​\n",
    "\n",
    "The problem that can be alleviated for customers is the time and effort involved in trying to understand complicated rules on how to sort their garbage. ​\n",
    "\n",
    "### What are the unmet needs of my customers?​\n",
    "\n",
    "They need a simple and easy-to-use application that won't leave them confused.​\n",
    "\n",
    "### Are current products on the market meeting customers' expectations? If not, what is lacking?​\n",
    "\n",
    "Currently, there aren't many products on the market that meet customer expectations because many of them lack the ability to identify and sort a variety of materials such as paper, plastic, glass, and metal. Furthermore, many products are not user-friendly, making them difficult to operate and navigate. Finally, many products lack the ability to recognize multiple languages, making it difficult for people from different countries to use them.​"
   ]
  },
  {
   "attachments": {},
   "cell_type": "markdown",
   "metadata": {},
   "source": [
    "# Initial Idea\n",
    "I want to create an app that will help people easily sort their garbage and reduce their environmental footprint. My Waste Classification app will use a convolutional neural network (CNN) image classification model to accurately identify materials and sort them into the appropriate categories. The app will be easy to use, intuitive, and accessible to people from different countries and cultures. I believe that this will help to reduce the amount of waste in landfills and contribute to a healthier environment for us all."
   ]
  },
  {
   "attachments": {},
   "cell_type": "markdown",
   "metadata": {},
   "source": [
    "# Target audience\n",
    "1. Young adults and teenagers are the primary target audience for this mobile app. This demographic is more likely to own a smartphone and use mobile apps, making them the ideal audience for a mobile app. Additionally, this demographic is likely to be more socially conscious and environmentally aware, which will make them more likely to appreciate the purpose and function of the app. The app can be used to raise awareness about proper waste management, as well as provide a convenient way for young adults to sort their own waste appropriately. Furthermore, the app can be used to educate and inform young adults about the importance of waste management and the consequences of improper disposal. The app can also be used as a tool to promote sustainability and encourage young adults to be more conscious of their waste. \n",
    "\n",
    "2. The elderly people may also benefit from the mobile app, as it can provide them with a convenient way to properly dispose of their waste. Additionally, the app can provide them with an easy way to stay informed about proper waste management and the consequences of improper disposal. The map feature can also be particularly useful for elderly people, as it can help them to easily locate the nearest trash cans. Furthermore, the app can provide a way for them to educate and inform younger family members and friends about proper waste management. "
   ]
  },
  {
   "attachments": {},
   "cell_type": "markdown",
   "metadata": {},
   "source": [
    "# User persona\n",
    "\n",
    "### Name:\n",
    "Ruth Johnson\n",
    "\n",
    "### Personal background:\n",
    "- age: 73\n",
    "- status: Widowed\n",
    "- education: High school\n",
    "\n",
    "### Professional background:\n",
    "- occupation: Retired\n",
    "- income: Fixed income\n",
    "\n",
    "### User environment:\n",
    "- location: Rural area\n",
    "- devices: Smartphone\n",
    "\n",
    "### End goals:\n",
    "- To stay informed about proper waste management and the consequences of improper disposal\n",
    "- To locate the nearest trash cans\n",
    "- To educate her family and friends about proper waste management\n",
    "- To simplify the sorting process for her waste\n",
    "\n",
    "### Psychographics:\n",
    "Cautious, conservative, values family and tradition\n",
    "\n",
    "### Scenario:\n",
    "Ruth Johnson is a 73-year-old widow living in a rural area. She uses a smartphone to stay connected to her family and friends, but she doesn't use many apps. She is very cautious and conservative, and values family and tradition. She is also concerned about the environment and wants to do her part to reduce waste. Despite her best efforts, she often gets confused when trying to correctly sort her waste. She is looking for an app that can provide her with an easy way to stay informed about proper waste management and the consequences of improper disposal, and to locate the nearest trash cans."
   ]
  },
  {
   "attachments": {},
   "cell_type": "markdown",
   "metadata": {},
   "source": [
    "# Adjusted Idea\n",
    "\n",
    "I want to create an app that will help people easily sort their garbage and reduce their environmental footprint. My Waste Classification app will use a convolutional neural network (CNN) image classification model to accurately identify materials and sort them into the appropriate categories. This app will be designed to be user-friendly for both young adults and elderly people, with an intuitive interface and features tailored to their needs. For young adults, the app can be used to raise awareness about proper waste management and provide an easy way to sort their own waste. For the elderly, the app can provide an easy way to stay informed about proper waste management and the consequences of improper disposal and also locate the nearest trash cans. Through this app, we hope to educate and inform people of all ages about the importance of waste management and the consequences of improper disposal.\n",
    "\n",
    "Feasibility:\n",
    "\n",
    "This app has the potential to be a highly effective and valuable tool for its users. The combination of a convolutional neural network and intuitive user interface will make it easy for users to identify and sort their waste correctly.\n",
    "What's more important, compared to other possible solutions such as on-site classification systems or unified waste labels across countries, the mobile app is the most cost-efficient and viable idea."
   ]
  }
 ],
 "metadata": {
  "language_info": {
   "name": "python"
  },
  "orig_nbformat": 4
 },
 "nbformat": 4,
 "nbformat_minor": 2
}
